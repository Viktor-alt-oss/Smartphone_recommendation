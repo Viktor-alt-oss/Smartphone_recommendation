{
 "cells": [
  {
   "cell_type": "markdown",
   "id": "5dfa97cf-2f1c-44f6-98e8-94a8dfa9c3c7",
   "metadata": {},
   "source": [
    "# Smartphone Recommendation System\n"
   ]
  },
  {
   "cell_type": "code",
   "execution_count": 1,
   "id": "43e49970-39f4-46a2-91bc-f2bf0b40c82a",
   "metadata": {},
   "outputs": [],
   "source": [
    "import numpy as np\n",
    "import pandas as pd\n",
    "import matplotlib.pyplot as plt\n",
    "import seaborn as sns\n",
    "from sklearn.model_selection import train_test_split\n",
    "from sklearn.ensemble import AdaBoostClassifier\n",
    "from sklearn.metrics import accuracy_score"
   ]
  },
  {
   "cell_type": "markdown",
   "id": "08f1207e-6709-45fe-8d62-4600741771e5",
   "metadata": {},
   "source": [
    "## Data Loading and Preparation"
   ]
  },
  {
   "cell_type": "code",
   "execution_count": 2,
   "id": "68cb25ce-07cd-402c-a4ad-7775d58c8c14",
   "metadata": {},
   "outputs": [],
   "source": [
    "df_data = pd.read_csv(r\"..\\DATA\\cellphones data.csv\")\n",
    "df_ratings = pd.read_csv(r\"..\\DATA\\cellphones ratings.csv\")\n",
    "df_users = pd.read_csv(r\"..\\DATA\\cellphones users.csv\")"
   ]
  },
  {
   "cell_type": "code",
   "execution_count": 3,
   "id": "71017787-a89e-479a-8e09-83990d04d5ef",
   "metadata": {},
   "outputs": [],
   "source": [
    "df = df_data.merge(df_ratings).merge(df_users)"
   ]
  },
  {
   "cell_type": "code",
   "execution_count": 4,
   "id": "60c0f310-db67-4b1c-b411-714326f2b482",
   "metadata": {},
   "outputs": [
    {
     "data": {
      "text/html": [
       "<div>\n",
       "<style scoped>\n",
       "    .dataframe tbody tr th:only-of-type {\n",
       "        vertical-align: middle;\n",
       "    }\n",
       "\n",
       "    .dataframe tbody tr th {\n",
       "        vertical-align: top;\n",
       "    }\n",
       "\n",
       "    .dataframe thead th {\n",
       "        text-align: right;\n",
       "    }\n",
       "</style>\n",
       "<table border=\"1\" class=\"dataframe\">\n",
       "  <thead>\n",
       "    <tr style=\"text-align: right;\">\n",
       "      <th></th>\n",
       "      <th>cellphone_id</th>\n",
       "      <th>brand</th>\n",
       "      <th>model</th>\n",
       "      <th>operating system</th>\n",
       "      <th>internal memory</th>\n",
       "      <th>RAM</th>\n",
       "      <th>performance</th>\n",
       "      <th>main camera</th>\n",
       "      <th>selfie camera</th>\n",
       "      <th>battery size</th>\n",
       "      <th>screen size</th>\n",
       "      <th>weight</th>\n",
       "      <th>price</th>\n",
       "      <th>release date</th>\n",
       "      <th>user_id</th>\n",
       "      <th>rating</th>\n",
       "      <th>age</th>\n",
       "      <th>gender</th>\n",
       "      <th>occupation</th>\n",
       "    </tr>\n",
       "  </thead>\n",
       "  <tbody>\n",
       "    <tr>\n",
       "      <th>0</th>\n",
       "      <td>0</td>\n",
       "      <td>Apple</td>\n",
       "      <td>iPhone SE (2022)</td>\n",
       "      <td>iOS</td>\n",
       "      <td>128</td>\n",
       "      <td>4</td>\n",
       "      <td>7.23</td>\n",
       "      <td>12</td>\n",
       "      <td>7</td>\n",
       "      <td>2018</td>\n",
       "      <td>4.7</td>\n",
       "      <td>144</td>\n",
       "      <td>429</td>\n",
       "      <td>18/03/2022</td>\n",
       "      <td>8</td>\n",
       "      <td>5</td>\n",
       "      <td>25</td>\n",
       "      <td>Female</td>\n",
       "      <td>Manager</td>\n",
       "    </tr>\n",
       "    <tr>\n",
       "      <th>1</th>\n",
       "      <td>0</td>\n",
       "      <td>Apple</td>\n",
       "      <td>iPhone SE (2022)</td>\n",
       "      <td>iOS</td>\n",
       "      <td>128</td>\n",
       "      <td>4</td>\n",
       "      <td>7.23</td>\n",
       "      <td>12</td>\n",
       "      <td>7</td>\n",
       "      <td>2018</td>\n",
       "      <td>4.7</td>\n",
       "      <td>144</td>\n",
       "      <td>429</td>\n",
       "      <td>18/03/2022</td>\n",
       "      <td>16</td>\n",
       "      <td>1</td>\n",
       "      <td>31</td>\n",
       "      <td>Female</td>\n",
       "      <td>sales</td>\n",
       "    </tr>\n",
       "    <tr>\n",
       "      <th>2</th>\n",
       "      <td>0</td>\n",
       "      <td>Apple</td>\n",
       "      <td>iPhone SE (2022)</td>\n",
       "      <td>iOS</td>\n",
       "      <td>128</td>\n",
       "      <td>4</td>\n",
       "      <td>7.23</td>\n",
       "      <td>12</td>\n",
       "      <td>7</td>\n",
       "      <td>2018</td>\n",
       "      <td>4.7</td>\n",
       "      <td>144</td>\n",
       "      <td>429</td>\n",
       "      <td>18/03/2022</td>\n",
       "      <td>30</td>\n",
       "      <td>4</td>\n",
       "      <td>34</td>\n",
       "      <td>Male</td>\n",
       "      <td>ICT Officer</td>\n",
       "    </tr>\n",
       "    <tr>\n",
       "      <th>3</th>\n",
       "      <td>0</td>\n",
       "      <td>Apple</td>\n",
       "      <td>iPhone SE (2022)</td>\n",
       "      <td>iOS</td>\n",
       "      <td>128</td>\n",
       "      <td>4</td>\n",
       "      <td>7.23</td>\n",
       "      <td>12</td>\n",
       "      <td>7</td>\n",
       "      <td>2018</td>\n",
       "      <td>4.7</td>\n",
       "      <td>144</td>\n",
       "      <td>429</td>\n",
       "      <td>18/03/2022</td>\n",
       "      <td>35</td>\n",
       "      <td>6</td>\n",
       "      <td>41</td>\n",
       "      <td>Male</td>\n",
       "      <td>self employed</td>\n",
       "    </tr>\n",
       "    <tr>\n",
       "      <th>4</th>\n",
       "      <td>0</td>\n",
       "      <td>Apple</td>\n",
       "      <td>iPhone SE (2022)</td>\n",
       "      <td>iOS</td>\n",
       "      <td>128</td>\n",
       "      <td>4</td>\n",
       "      <td>7.23</td>\n",
       "      <td>12</td>\n",
       "      <td>7</td>\n",
       "      <td>2018</td>\n",
       "      <td>4.7</td>\n",
       "      <td>144</td>\n",
       "      <td>429</td>\n",
       "      <td>18/03/2022</td>\n",
       "      <td>52</td>\n",
       "      <td>5</td>\n",
       "      <td>25</td>\n",
       "      <td>Male</td>\n",
       "      <td>software developer</td>\n",
       "    </tr>\n",
       "  </tbody>\n",
       "</table>\n",
       "</div>"
      ],
      "text/plain": [
       "   cellphone_id  brand             model operating system  internal memory  \\\n",
       "0             0  Apple  iPhone SE (2022)              iOS              128   \n",
       "1             0  Apple  iPhone SE (2022)              iOS              128   \n",
       "2             0  Apple  iPhone SE (2022)              iOS              128   \n",
       "3             0  Apple  iPhone SE (2022)              iOS              128   \n",
       "4             0  Apple  iPhone SE (2022)              iOS              128   \n",
       "\n",
       "   RAM  performance  main camera  selfie camera  battery size  screen size  \\\n",
       "0    4         7.23           12              7          2018          4.7   \n",
       "1    4         7.23           12              7          2018          4.7   \n",
       "2    4         7.23           12              7          2018          4.7   \n",
       "3    4         7.23           12              7          2018          4.7   \n",
       "4    4         7.23           12              7          2018          4.7   \n",
       "\n",
       "   weight  price release date  user_id  rating  age  gender  \\\n",
       "0     144    429   18/03/2022        8       5   25  Female   \n",
       "1     144    429   18/03/2022       16       1   31  Female   \n",
       "2     144    429   18/03/2022       30       4   34    Male   \n",
       "3     144    429   18/03/2022       35       6   41    Male   \n",
       "4     144    429   18/03/2022       52       5   25    Male   \n",
       "\n",
       "           occupation  \n",
       "0             Manager  \n",
       "1               sales  \n",
       "2         ICT Officer  \n",
       "3       self employed  \n",
       "4  software developer  "
      ]
     },
     "execution_count": 4,
     "metadata": {},
     "output_type": "execute_result"
    }
   ],
   "source": [
    "df.head()"
   ]
  },
  {
   "cell_type": "code",
   "execution_count": 5,
   "id": "cef37bfd-b234-45f0-883a-e71425d4b93a",
   "metadata": {},
   "outputs": [
    {
     "data": {
      "text/plain": [
       "array([ 5,  1,  4,  6, 10,  8,  7,  9,  2,  3, 18], dtype=int64)"
      ]
     },
     "execution_count": 5,
     "metadata": {},
     "output_type": "execute_result"
    }
   ],
   "source": [
    "df['rating'].unique()"
   ]
  },
  {
   "cell_type": "code",
   "execution_count": 6,
   "id": "be350fab-f1d1-497d-886d-456c93f1e506",
   "metadata": {},
   "outputs": [
    {
     "data": {
      "text/plain": [
       "array(['iPhone SE (2022)', 'iPhone 13 Mini', 'iPhone 13', 'iPhone 13 Pro',\n",
       "       'iPhone 13 Pro Max', 'iPhone XR', 'Zenfone 8', 'Galaxy A13',\n",
       "       'Galaxy A32', 'Galaxy A53', 'Galaxy S22', 'Galaxy S22 Plus',\n",
       "       'Galaxy S22 Ultra', 'Galaxy Z Flip 3', 'Galaxy Z Fold 3',\n",
       "       'Pixel 6 \\xa0', 'Pixel 6a', 'Pixel 6 Pro\\xa0', 'Nord N20',\n",
       "       'Nord 2T', '10 Pro', '10T', 'Find X5 Pro', 'X80 Pro',\n",
       "       'Redmi Note 11', '11T Pro', '12 Pro', 'Poco F4', 'Xperia Pro',\n",
       "       'Moto G Stylus (2022)', 'Moto G Play (2021)', 'Moto G Pure',\n",
       "       'Moto G Power (2022)'], dtype=object)"
      ]
     },
     "execution_count": 6,
     "metadata": {},
     "output_type": "execute_result"
    }
   ],
   "source": [
    "df['model'].unique()"
   ]
  },
  {
   "cell_type": "code",
   "execution_count": 7,
   "id": "99e66a9e-f9ff-413d-a3ba-12a7fdeb01bc",
   "metadata": {},
   "outputs": [
    {
     "name": "stdout",
     "output_type": "stream",
     "text": [
      "<class 'pandas.core.frame.DataFrame'>\n",
      "RangeIndex: 990 entries, 0 to 989\n",
      "Data columns (total 19 columns):\n",
      " #   Column            Non-Null Count  Dtype  \n",
      "---  ------            --------------  -----  \n",
      " 0   cellphone_id      990 non-null    int64  \n",
      " 1   brand             990 non-null    object \n",
      " 2   model             990 non-null    object \n",
      " 3   operating system  990 non-null    object \n",
      " 4   internal memory   990 non-null    int64  \n",
      " 5   RAM               990 non-null    int64  \n",
      " 6   performance       990 non-null    float64\n",
      " 7   main camera       990 non-null    int64  \n",
      " 8   selfie camera     990 non-null    int64  \n",
      " 9   battery size      990 non-null    int64  \n",
      " 10  screen size       990 non-null    float64\n",
      " 11  weight            990 non-null    int64  \n",
      " 12  price             990 non-null    int64  \n",
      " 13  release date      990 non-null    object \n",
      " 14  user_id           990 non-null    int64  \n",
      " 15  rating            990 non-null    int64  \n",
      " 16  age               990 non-null    int64  \n",
      " 17  gender            990 non-null    object \n",
      " 18  occupation        980 non-null    object \n",
      "dtypes: float64(2), int64(11), object(6)\n",
      "memory usage: 147.1+ KB\n"
     ]
    }
   ],
   "source": [
    "df.info()"
   ]
  },
  {
   "cell_type": "markdown",
   "id": "4ad06a94-e83c-4074-b24a-f25cecf06877",
   "metadata": {},
   "source": [
    "## Feature Engineering"
   ]
  },
  {
   "cell_type": "code",
   "execution_count": 8,
   "id": "ae52e807-0944-463a-b9bc-0ed7bc477b15",
   "metadata": {},
   "outputs": [
    {
     "ename": "KeyError",
     "evalue": "\"['user_id '] not found in axis\"",
     "output_type": "error",
     "traceback": [
      "\u001b[1;31m---------------------------------------------------------------------------\u001b[0m",
      "\u001b[1;31mKeyError\u001b[0m                                  Traceback (most recent call last)",
      "Cell \u001b[1;32mIn[8], line 1\u001b[0m\n\u001b[1;32m----> 1\u001b[0m X \u001b[38;5;241m=\u001b[39m pd\u001b[38;5;241m.\u001b[39mget_dummies(df\u001b[38;5;241m.\u001b[39mdrop([\u001b[38;5;124m'\u001b[39m\u001b[38;5;124mrelease date\u001b[39m\u001b[38;5;124m'\u001b[39m, \u001b[38;5;124m'\u001b[39m\u001b[38;5;124mbrand\u001b[39m\u001b[38;5;124m'\u001b[39m, \u001b[38;5;124m'\u001b[39m\u001b[38;5;124mmodel\u001b[39m\u001b[38;5;124m'\u001b[39m, \u001b[38;5;124m'\u001b[39m\u001b[38;5;124mcellphone_id\u001b[39m\u001b[38;5;124m'\u001b[39m, \u001b[38;5;124m'\u001b[39m\u001b[38;5;124muser_id \u001b[39m\u001b[38;5;124m'\u001b[39m], axis\u001b[38;5;241m=\u001b[39m\u001b[38;5;241m1\u001b[39m), drop_first\u001b[38;5;241m=\u001b[39m\u001b[38;5;28;01mTrue\u001b[39;00m, dtype\u001b[38;5;241m=\u001b[39m\u001b[38;5;28mint\u001b[39m)\n\u001b[0;32m      2\u001b[0m y \u001b[38;5;241m=\u001b[39m df[\u001b[38;5;124m'\u001b[39m\u001b[38;5;124mmodel\u001b[39m\u001b[38;5;124m'\u001b[39m]\n",
      "File \u001b[1;32m~\\anaconda3\\Lib\\site-packages\\pandas\\core\\frame.py:5581\u001b[0m, in \u001b[0;36mDataFrame.drop\u001b[1;34m(self, labels, axis, index, columns, level, inplace, errors)\u001b[0m\n\u001b[0;32m   5433\u001b[0m \u001b[38;5;28;01mdef\u001b[39;00m \u001b[38;5;21mdrop\u001b[39m(\n\u001b[0;32m   5434\u001b[0m     \u001b[38;5;28mself\u001b[39m,\n\u001b[0;32m   5435\u001b[0m     labels: IndexLabel \u001b[38;5;241m|\u001b[39m \u001b[38;5;28;01mNone\u001b[39;00m \u001b[38;5;241m=\u001b[39m \u001b[38;5;28;01mNone\u001b[39;00m,\n\u001b[1;32m   (...)\u001b[0m\n\u001b[0;32m   5442\u001b[0m     errors: IgnoreRaise \u001b[38;5;241m=\u001b[39m \u001b[38;5;124m\"\u001b[39m\u001b[38;5;124mraise\u001b[39m\u001b[38;5;124m\"\u001b[39m,\n\u001b[0;32m   5443\u001b[0m ) \u001b[38;5;241m-\u001b[39m\u001b[38;5;241m>\u001b[39m DataFrame \u001b[38;5;241m|\u001b[39m \u001b[38;5;28;01mNone\u001b[39;00m:\n\u001b[0;32m   5444\u001b[0m \u001b[38;5;250m    \u001b[39m\u001b[38;5;124;03m\"\"\"\u001b[39;00m\n\u001b[0;32m   5445\u001b[0m \u001b[38;5;124;03m    Drop specified labels from rows or columns.\u001b[39;00m\n\u001b[0;32m   5446\u001b[0m \n\u001b[1;32m   (...)\u001b[0m\n\u001b[0;32m   5579\u001b[0m \u001b[38;5;124;03m            weight  1.0     0.8\u001b[39;00m\n\u001b[0;32m   5580\u001b[0m \u001b[38;5;124;03m    \"\"\"\u001b[39;00m\n\u001b[1;32m-> 5581\u001b[0m     \u001b[38;5;28;01mreturn\u001b[39;00m \u001b[38;5;28msuper\u001b[39m()\u001b[38;5;241m.\u001b[39mdrop(\n\u001b[0;32m   5582\u001b[0m         labels\u001b[38;5;241m=\u001b[39mlabels,\n\u001b[0;32m   5583\u001b[0m         axis\u001b[38;5;241m=\u001b[39maxis,\n\u001b[0;32m   5584\u001b[0m         index\u001b[38;5;241m=\u001b[39mindex,\n\u001b[0;32m   5585\u001b[0m         columns\u001b[38;5;241m=\u001b[39mcolumns,\n\u001b[0;32m   5586\u001b[0m         level\u001b[38;5;241m=\u001b[39mlevel,\n\u001b[0;32m   5587\u001b[0m         inplace\u001b[38;5;241m=\u001b[39minplace,\n\u001b[0;32m   5588\u001b[0m         errors\u001b[38;5;241m=\u001b[39merrors,\n\u001b[0;32m   5589\u001b[0m     )\n",
      "File \u001b[1;32m~\\anaconda3\\Lib\\site-packages\\pandas\\core\\generic.py:4788\u001b[0m, in \u001b[0;36mNDFrame.drop\u001b[1;34m(self, labels, axis, index, columns, level, inplace, errors)\u001b[0m\n\u001b[0;32m   4786\u001b[0m \u001b[38;5;28;01mfor\u001b[39;00m axis, labels \u001b[38;5;129;01min\u001b[39;00m axes\u001b[38;5;241m.\u001b[39mitems():\n\u001b[0;32m   4787\u001b[0m     \u001b[38;5;28;01mif\u001b[39;00m labels \u001b[38;5;129;01mis\u001b[39;00m \u001b[38;5;129;01mnot\u001b[39;00m \u001b[38;5;28;01mNone\u001b[39;00m:\n\u001b[1;32m-> 4788\u001b[0m         obj \u001b[38;5;241m=\u001b[39m obj\u001b[38;5;241m.\u001b[39m_drop_axis(labels, axis, level\u001b[38;5;241m=\u001b[39mlevel, errors\u001b[38;5;241m=\u001b[39merrors)\n\u001b[0;32m   4790\u001b[0m \u001b[38;5;28;01mif\u001b[39;00m inplace:\n\u001b[0;32m   4791\u001b[0m     \u001b[38;5;28mself\u001b[39m\u001b[38;5;241m.\u001b[39m_update_inplace(obj)\n",
      "File \u001b[1;32m~\\anaconda3\\Lib\\site-packages\\pandas\\core\\generic.py:4830\u001b[0m, in \u001b[0;36mNDFrame._drop_axis\u001b[1;34m(self, labels, axis, level, errors, only_slice)\u001b[0m\n\u001b[0;32m   4828\u001b[0m         new_axis \u001b[38;5;241m=\u001b[39m axis\u001b[38;5;241m.\u001b[39mdrop(labels, level\u001b[38;5;241m=\u001b[39mlevel, errors\u001b[38;5;241m=\u001b[39merrors)\n\u001b[0;32m   4829\u001b[0m     \u001b[38;5;28;01melse\u001b[39;00m:\n\u001b[1;32m-> 4830\u001b[0m         new_axis \u001b[38;5;241m=\u001b[39m axis\u001b[38;5;241m.\u001b[39mdrop(labels, errors\u001b[38;5;241m=\u001b[39merrors)\n\u001b[0;32m   4831\u001b[0m     indexer \u001b[38;5;241m=\u001b[39m axis\u001b[38;5;241m.\u001b[39mget_indexer(new_axis)\n\u001b[0;32m   4833\u001b[0m \u001b[38;5;66;03m# Case for non-unique axis\u001b[39;00m\n\u001b[0;32m   4834\u001b[0m \u001b[38;5;28;01melse\u001b[39;00m:\n",
      "File \u001b[1;32m~\\anaconda3\\Lib\\site-packages\\pandas\\core\\indexes\\base.py:7070\u001b[0m, in \u001b[0;36mIndex.drop\u001b[1;34m(self, labels, errors)\u001b[0m\n\u001b[0;32m   7068\u001b[0m \u001b[38;5;28;01mif\u001b[39;00m mask\u001b[38;5;241m.\u001b[39many():\n\u001b[0;32m   7069\u001b[0m     \u001b[38;5;28;01mif\u001b[39;00m errors \u001b[38;5;241m!=\u001b[39m \u001b[38;5;124m\"\u001b[39m\u001b[38;5;124mignore\u001b[39m\u001b[38;5;124m\"\u001b[39m:\n\u001b[1;32m-> 7070\u001b[0m         \u001b[38;5;28;01mraise\u001b[39;00m \u001b[38;5;167;01mKeyError\u001b[39;00m(\u001b[38;5;124mf\u001b[39m\u001b[38;5;124m\"\u001b[39m\u001b[38;5;132;01m{\u001b[39;00mlabels[mask]\u001b[38;5;241m.\u001b[39mtolist()\u001b[38;5;132;01m}\u001b[39;00m\u001b[38;5;124m not found in axis\u001b[39m\u001b[38;5;124m\"\u001b[39m)\n\u001b[0;32m   7071\u001b[0m     indexer \u001b[38;5;241m=\u001b[39m indexer[\u001b[38;5;241m~\u001b[39mmask]\n\u001b[0;32m   7072\u001b[0m \u001b[38;5;28;01mreturn\u001b[39;00m \u001b[38;5;28mself\u001b[39m\u001b[38;5;241m.\u001b[39mdelete(indexer)\n",
      "\u001b[1;31mKeyError\u001b[0m: \"['user_id '] not found in axis\""
     ]
    }
   ],
   "source": [
    "X = pd.get_dummies(df.drop(['release date', 'brand', 'model', 'cellphone_id', 'user_id '], axis=1), drop_first=True, dtype=int)\n",
    "y = df['model']"
   ]
  },
  {
   "cell_type": "code",
   "execution_count": null,
   "id": "f63ae8d9-a7c9-4f10-9ad6-e0380f752593",
   "metadata": {},
   "outputs": [],
   "source": [
    "X.head()"
   ]
  },
  {
   "cell_type": "code",
   "execution_count": null,
   "id": "148ff457-0e54-42b8-939b-7e1e7ba2e0d4",
   "metadata": {},
   "outputs": [],
   "source": [
    "X_train, X_test, y_train, y_test = train_test_split(X, y, test_size=0.15, random_state=101)"
   ]
  },
  {
   "cell_type": "code",
   "execution_count": null,
   "id": "be945169-e9db-4f4c-9a60-d92aba232e98",
   "metadata": {},
   "outputs": [],
   "source": [
    "len(X.columns)"
   ]
  },
  {
   "cell_type": "markdown",
   "id": "061323d8-490c-4354-bf84-5d10e49fbc51",
   "metadata": {},
   "source": [
    "## Model Training"
   ]
  },
  {
   "cell_type": "code",
   "execution_count": null,
   "id": "18664cfa-7221-4885-ac0a-f73ad9d6c43a",
   "metadata": {
    "scrolled": true
   },
   "outputs": [],
   "source": [
    "list_err = []\n",
    "for i in range(1, 40):\n",
    "    ada_model = AdaBoostClassifier(n_estimators=i)\n",
    "    ada_model.fit(X_train, y_train)\n",
    "    y_pred = ada_model.predict(X_test)\n",
    "    y_error = 1 - accuracy_score(y_test, y_pred)\n",
    "\n",
    "    list_err.append(y_error)"
   ]
  },
  {
   "cell_type": "markdown",
   "id": "ace8f691-02fb-4c3d-9135-c6032f2fd91b",
   "metadata": {},
   "source": [
    "#### Plot error rates"
   ]
  },
  {
   "cell_type": "code",
   "execution_count": null,
   "id": "ceb54a40-5f06-4585-9d77-f39364bfd3ab",
   "metadata": {},
   "outputs": [],
   "source": [
    "plt.plot(range(1, 40), list_err)\n",
    "plt.xlabel('Number of estimators')\n",
    "plt.ylabel('Error rate')\n",
    "plt.savefig('../Images/plot_error_rates.png')"
   ]
  },
  {
   "cell_type": "code",
   "execution_count": null,
   "id": "bff5b3c8-28ef-4c4d-b05d-de8062bfab9e",
   "metadata": {},
   "outputs": [],
   "source": [
    "optimal_n = np.argmin(list_err) + 1\n",
    "ada_model = AdaBoostClassifier(n_estimators=optimal_n)\n",
    "ada_model.fit(X_train, y_train)"
   ]
  },
  {
   "cell_type": "markdown",
   "id": "d1c42724-a2cd-4b9e-a717-50e1db0482bb",
   "metadata": {},
   "source": [
    "## Feature Importance Analysis"
   ]
  },
  {
   "cell_type": "code",
   "execution_count": null,
   "id": "568e40a7-9c89-4122-96eb-3d15df24ddb0",
   "metadata": {},
   "outputs": [],
   "source": [
    "ada_model.feature_importances_"
   ]
  },
  {
   "cell_type": "code",
   "execution_count": null,
   "id": "2debb40e-29b9-44f2-a8df-0ae1f69dce4f",
   "metadata": {},
   "outputs": [],
   "source": [
    "data_analyse = pd.DataFrame(index=X.columns, \n",
    "                           data=ada_model.feature_importances_, \n",
    "                           columns=['Importance'])"
   ]
  },
  {
   "cell_type": "code",
   "execution_count": null,
   "id": "46f80549-a43f-4f97-be4b-750eb22e437e",
   "metadata": {},
   "outputs": [],
   "source": [
    "data_analyse"
   ]
  },
  {
   "cell_type": "code",
   "execution_count": null,
   "id": "7ae2f3a0-199d-4623-a7d0-ac62634057b6",
   "metadata": {},
   "outputs": [],
   "source": [
    "data_analyse_import = data_analyse[data_analyse['Importance'] > 0].sort_values('Importance')"
   ]
  },
  {
   "cell_type": "code",
   "execution_count": null,
   "id": "2712863f-0419-41be-a62b-dfee50fa12b5",
   "metadata": {},
   "outputs": [],
   "source": [
    "data_analyse_import"
   ]
  },
  {
   "cell_type": "code",
   "execution_count": null,
   "id": "6322b4f0-b5b0-4859-84ba-1655c2e77d3f",
   "metadata": {},
   "outputs": [],
   "source": [
    "plt.figure(figsize=(10, 6))\n",
    "sns.barplot(data=data_analyse_import, \n",
    "            x=data_analyse_import.index, \n",
    "            y=data_analyse_import['Importance'], \n",
    "            palette='viridis')\n",
    "plt.xticks(rotation=90)\n",
    "plt.title('Feature Importance for Cellphone Model Recommendation')\n",
    "plt.tight_layout()\n",
    "plt.savefig('../Images/feature_importance.png')"
   ]
  },
  {
   "cell_type": "code",
   "execution_count": null,
   "id": "e1f0866b-3847-4d7b-ae4e-710d48b067b1",
   "metadata": {},
   "outputs": [],
   "source": []
  }
 ],
 "metadata": {
  "kernelspec": {
   "display_name": "Python [conda env:base] *",
   "language": "python",
   "name": "conda-base-py"
  },
  "language_info": {
   "codemirror_mode": {
    "name": "ipython",
    "version": 3
   },
   "file_extension": ".py",
   "mimetype": "text/x-python",
   "name": "python",
   "nbconvert_exporter": "python",
   "pygments_lexer": "ipython3",
   "version": "3.12.3"
  }
 },
 "nbformat": 4,
 "nbformat_minor": 5
}
